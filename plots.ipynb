{
 "cells": [
  {
   "cell_type": "code",
   "execution_count": 25,
   "metadata": {},
   "outputs": [],
   "source": [
    "import torch\n",
    "import pandas as pd\n",
    "import matplotlib\n",
    "import matplotlib.pyplot as plt\n",
    "from pathlib import Path\n",
    "import numpy as np\n",
    "import scienceplots as sp\n",
    "import seaborn as sns\n",
    "from cycler import cycler\n",
    "\n",
    "column_width = 3.5\n",
    "\n",
    "with plt.style.context(['science']):\n",
    "    sci_cycle = plt.rcParams['axes.prop_cycle']"
   ]
  },
  {
   "cell_type": "code",
   "execution_count": 34,
   "metadata": {},
   "outputs": [],
   "source": [
    "matplotlib.use(\"pgf\")\n",
    "matplotlib.rcParams.update({\n",
    "    \"pgf.texsystem\": \"pdflatex\",\n",
    "    'font.family': 'serif',\n",
    "    'text.usetex': True,\n",
    "    'pgf.rcfonts': False,\n",
    "})\n",
    "SHOW = False\n",
    "# SHOW = True"
   ]
  },
  {
   "cell_type": "markdown",
   "metadata": {},
   "source": [
    "# Block Hoyer vs Hoyer Sparsity and Accuracy Results"
   ]
  },
  {
   "cell_type": "code",
   "execution_count": 27,
   "metadata": {},
   "outputs": [],
   "source": [
    "data_sparsity = {\n",
    "    'Dataset': ['CIFAR10', 'CIFAR100', 'Tiny ImageNet'], \n",
    "    'Baseline': [56.01, 57.70, 52.6],\n",
    "    'Hoyer': [89.65, 89.54, 92.99],\n",
    "    'Block Hoyer': [93.52, 95.74, 94.68],\n",
    "}\n",
    "df_sparsity = pd.DataFrame(data_sparsity)\n",
    "\n",
    "data_accuracy = {\n",
    "    'Dataset': ['CIFAR10', 'CIFAR100', 'Tiny ImageNet'], \n",
    "    'Baseline': [84.74, 56.80, 41.25],\n",
    "    'Hoyer$^2$': [83.85, 57.48, 40.78],\n",
    "    '$H_{\\\\mathbf{block}}^2$ \\\\textit{(Ours)}': [83.79, 57.60, 40.74],\n",
    "    '2:4 Enforced Hoyer$^2$': [82.26, 47.64, 26.77],\n",
    "    '2:4 Enforced $H_{\\\\mathbf{block}}^2$ \\\\textit{(Ours)}': [82.15, 54.73, 40.30],\n",
    "}\n",
    "df_accuracy = pd.DataFrame(data_accuracy)"
   ]
  },
  {
   "cell_type": "code",
   "execution_count": 28,
   "metadata": {},
   "outputs": [
    {
     "data": {
      "text/html": [
       "<div>\n",
       "<style scoped>\n",
       "    .dataframe tbody tr th:only-of-type {\n",
       "        vertical-align: middle;\n",
       "    }\n",
       "\n",
       "    .dataframe tbody tr th {\n",
       "        vertical-align: top;\n",
       "    }\n",
       "\n",
       "    .dataframe thead th {\n",
       "        text-align: right;\n",
       "    }\n",
       "</style>\n",
       "<table border=\"1\" class=\"dataframe\">\n",
       "  <thead>\n",
       "    <tr style=\"text-align: right;\">\n",
       "      <th></th>\n",
       "      <th>Dataset</th>\n",
       "      <th>Baseline</th>\n",
       "      <th>Hoyer$^2$</th>\n",
       "      <th>$H_{\\mathbf{block}}^2$ \\textit{(Ours)}</th>\n",
       "      <th>2:4 Enforced Hoyer$^2$</th>\n",
       "      <th>2:4 Enforced $H_{\\mathbf{block}}^2$ \\textit{(Ours)}</th>\n",
       "    </tr>\n",
       "  </thead>\n",
       "  <tbody>\n",
       "    <tr>\n",
       "      <th>0</th>\n",
       "      <td>CIFAR10</td>\n",
       "      <td>84.74</td>\n",
       "      <td>83.85</td>\n",
       "      <td>83.79</td>\n",
       "      <td>82.26</td>\n",
       "      <td>82.15</td>\n",
       "    </tr>\n",
       "    <tr>\n",
       "      <th>1</th>\n",
       "      <td>CIFAR100</td>\n",
       "      <td>56.80</td>\n",
       "      <td>57.48</td>\n",
       "      <td>57.60</td>\n",
       "      <td>47.64</td>\n",
       "      <td>54.73</td>\n",
       "    </tr>\n",
       "    <tr>\n",
       "      <th>2</th>\n",
       "      <td>Tiny ImageNet</td>\n",
       "      <td>41.25</td>\n",
       "      <td>40.78</td>\n",
       "      <td>40.74</td>\n",
       "      <td>26.77</td>\n",
       "      <td>40.30</td>\n",
       "    </tr>\n",
       "  </tbody>\n",
       "</table>\n",
       "</div>"
      ],
      "text/plain": [
       "         Dataset  Baseline  Hoyer$^2$  $H_{\\mathbf{block}}^2$ \\textit{(Ours)}  \\\n",
       "0        CIFAR10     84.74      83.85                                   83.79   \n",
       "1       CIFAR100     56.80      57.48                                   57.60   \n",
       "2  Tiny ImageNet     41.25      40.78                                   40.74   \n",
       "\n",
       "   2:4 Enforced Hoyer$^2$  2:4 Enforced $H_{\\mathbf{block}}^2$ \\textit{(Ours)}  \n",
       "0                   82.26                                              82.15    \n",
       "1                   47.64                                              54.73    \n",
       "2                   26.77                                              40.30    "
      ]
     },
     "execution_count": 28,
     "metadata": {},
     "output_type": "execute_result"
    }
   ],
   "source": [
    "df_accuracy"
   ]
  },
  {
   "cell_type": "code",
   "execution_count": 29,
   "metadata": {},
   "outputs": [
    {
     "data": {
      "text/html": [
       "<div>\n",
       "<style scoped>\n",
       "    .dataframe tbody tr th:only-of-type {\n",
       "        vertical-align: middle;\n",
       "    }\n",
       "\n",
       "    .dataframe tbody tr th {\n",
       "        vertical-align: top;\n",
       "    }\n",
       "\n",
       "    .dataframe thead th {\n",
       "        text-align: right;\n",
       "    }\n",
       "</style>\n",
       "<table border=\"1\" class=\"dataframe\">\n",
       "  <thead>\n",
       "    <tr style=\"text-align: right;\">\n",
       "      <th></th>\n",
       "      <th>Dataset</th>\n",
       "      <th>variable</th>\n",
       "      <th>value</th>\n",
       "    </tr>\n",
       "  </thead>\n",
       "  <tbody>\n",
       "    <tr>\n",
       "      <th>0</th>\n",
       "      <td>CIFAR10</td>\n",
       "      <td>Baseline</td>\n",
       "      <td>84.74</td>\n",
       "    </tr>\n",
       "    <tr>\n",
       "      <th>1</th>\n",
       "      <td>CIFAR100</td>\n",
       "      <td>Baseline</td>\n",
       "      <td>56.80</td>\n",
       "    </tr>\n",
       "    <tr>\n",
       "      <th>2</th>\n",
       "      <td>Tiny ImageNet</td>\n",
       "      <td>Baseline</td>\n",
       "      <td>41.25</td>\n",
       "    </tr>\n",
       "    <tr>\n",
       "      <th>3</th>\n",
       "      <td>CIFAR10</td>\n",
       "      <td>Hoyer$^2$</td>\n",
       "      <td>83.85</td>\n",
       "    </tr>\n",
       "    <tr>\n",
       "      <th>4</th>\n",
       "      <td>CIFAR100</td>\n",
       "      <td>Hoyer$^2$</td>\n",
       "      <td>57.48</td>\n",
       "    </tr>\n",
       "    <tr>\n",
       "      <th>5</th>\n",
       "      <td>Tiny ImageNet</td>\n",
       "      <td>Hoyer$^2$</td>\n",
       "      <td>40.78</td>\n",
       "    </tr>\n",
       "    <tr>\n",
       "      <th>6</th>\n",
       "      <td>CIFAR10</td>\n",
       "      <td>$H_{\\mathbf{block}}^2$ \\textit{(Ours)}</td>\n",
       "      <td>83.79</td>\n",
       "    </tr>\n",
       "    <tr>\n",
       "      <th>7</th>\n",
       "      <td>CIFAR100</td>\n",
       "      <td>$H_{\\mathbf{block}}^2$ \\textit{(Ours)}</td>\n",
       "      <td>57.60</td>\n",
       "    </tr>\n",
       "    <tr>\n",
       "      <th>8</th>\n",
       "      <td>Tiny ImageNet</td>\n",
       "      <td>$H_{\\mathbf{block}}^2$ \\textit{(Ours)}</td>\n",
       "      <td>40.74</td>\n",
       "    </tr>\n",
       "    <tr>\n",
       "      <th>9</th>\n",
       "      <td>CIFAR10</td>\n",
       "      <td>2:4 Enforced Hoyer$^2$</td>\n",
       "      <td>82.26</td>\n",
       "    </tr>\n",
       "    <tr>\n",
       "      <th>10</th>\n",
       "      <td>CIFAR100</td>\n",
       "      <td>2:4 Enforced Hoyer$^2$</td>\n",
       "      <td>47.64</td>\n",
       "    </tr>\n",
       "    <tr>\n",
       "      <th>11</th>\n",
       "      <td>Tiny ImageNet</td>\n",
       "      <td>2:4 Enforced Hoyer$^2$</td>\n",
       "      <td>26.77</td>\n",
       "    </tr>\n",
       "    <tr>\n",
       "      <th>12</th>\n",
       "      <td>CIFAR10</td>\n",
       "      <td>2:4 Enforced $H_{\\mathbf{block}}^2$ \\textit{(O...</td>\n",
       "      <td>82.15</td>\n",
       "    </tr>\n",
       "    <tr>\n",
       "      <th>13</th>\n",
       "      <td>CIFAR100</td>\n",
       "      <td>2:4 Enforced $H_{\\mathbf{block}}^2$ \\textit{(O...</td>\n",
       "      <td>54.73</td>\n",
       "    </tr>\n",
       "    <tr>\n",
       "      <th>14</th>\n",
       "      <td>Tiny ImageNet</td>\n",
       "      <td>2:4 Enforced $H_{\\mathbf{block}}^2$ \\textit{(O...</td>\n",
       "      <td>40.30</td>\n",
       "    </tr>\n",
       "  </tbody>\n",
       "</table>\n",
       "</div>"
      ],
      "text/plain": [
       "          Dataset                                           variable  value\n",
       "0         CIFAR10                                           Baseline  84.74\n",
       "1        CIFAR100                                           Baseline  56.80\n",
       "2   Tiny ImageNet                                           Baseline  41.25\n",
       "3         CIFAR10                                          Hoyer$^2$  83.85\n",
       "4        CIFAR100                                          Hoyer$^2$  57.48\n",
       "5   Tiny ImageNet                                          Hoyer$^2$  40.78\n",
       "6         CIFAR10             $H_{\\mathbf{block}}^2$ \\textit{(Ours)}  83.79\n",
       "7        CIFAR100             $H_{\\mathbf{block}}^2$ \\textit{(Ours)}  57.60\n",
       "8   Tiny ImageNet             $H_{\\mathbf{block}}^2$ \\textit{(Ours)}  40.74\n",
       "9         CIFAR10                             2:4 Enforced Hoyer$^2$  82.26\n",
       "10       CIFAR100                             2:4 Enforced Hoyer$^2$  47.64\n",
       "11  Tiny ImageNet                             2:4 Enforced Hoyer$^2$  26.77\n",
       "12        CIFAR10  2:4 Enforced $H_{\\mathbf{block}}^2$ \\textit{(O...  82.15\n",
       "13       CIFAR100  2:4 Enforced $H_{\\mathbf{block}}^2$ \\textit{(O...  54.73\n",
       "14  Tiny ImageNet  2:4 Enforced $H_{\\mathbf{block}}^2$ \\textit{(O...  40.30"
      ]
     },
     "execution_count": 29,
     "metadata": {},
     "output_type": "execute_result"
    }
   ],
   "source": [
    "df_accuracy = pd.melt(df_accuracy, id_vars=['Dataset'], value_vars=[var for var in data_accuracy if var != 'Dataset'])\n",
    "df_accuracy"
   ]
  },
  {
   "cell_type": "code",
   "execution_count": 30,
   "metadata": {},
   "outputs": [
    {
     "data": {
      "text/html": [
       "<div>\n",
       "<style scoped>\n",
       "    .dataframe tbody tr th:only-of-type {\n",
       "        vertical-align: middle;\n",
       "    }\n",
       "\n",
       "    .dataframe tbody tr th {\n",
       "        vertical-align: top;\n",
       "    }\n",
       "\n",
       "    .dataframe thead th {\n",
       "        text-align: right;\n",
       "    }\n",
       "</style>\n",
       "<table border=\"1\" class=\"dataframe\">\n",
       "  <thead>\n",
       "    <tr style=\"text-align: right;\">\n",
       "      <th></th>\n",
       "      <th>Dataset</th>\n",
       "      <th>Baseline</th>\n",
       "      <th>Hoyer</th>\n",
       "      <th>Block Hoyer</th>\n",
       "    </tr>\n",
       "  </thead>\n",
       "  <tbody>\n",
       "    <tr>\n",
       "      <th>0</th>\n",
       "      <td>CIFAR10</td>\n",
       "      <td>56.01</td>\n",
       "      <td>89.65</td>\n",
       "      <td>93.52</td>\n",
       "    </tr>\n",
       "    <tr>\n",
       "      <th>1</th>\n",
       "      <td>CIFAR100</td>\n",
       "      <td>57.70</td>\n",
       "      <td>89.54</td>\n",
       "      <td>95.74</td>\n",
       "    </tr>\n",
       "    <tr>\n",
       "      <th>2</th>\n",
       "      <td>Tiny ImageNet</td>\n",
       "      <td>52.60</td>\n",
       "      <td>92.99</td>\n",
       "      <td>94.68</td>\n",
       "    </tr>\n",
       "  </tbody>\n",
       "</table>\n",
       "</div>"
      ],
      "text/plain": [
       "         Dataset  Baseline  Hoyer  Block Hoyer\n",
       "0        CIFAR10     56.01  89.65        93.52\n",
       "1       CIFAR100     57.70  89.54        95.74\n",
       "2  Tiny ImageNet     52.60  92.99        94.68"
      ]
     },
     "execution_count": 30,
     "metadata": {},
     "output_type": "execute_result"
    }
   ],
   "source": [
    "df_sparsity"
   ]
  },
  {
   "cell_type": "code",
   "execution_count": 31,
   "metadata": {},
   "outputs": [
    {
     "data": {
      "text/html": [
       "<div>\n",
       "<style scoped>\n",
       "    .dataframe tbody tr th:only-of-type {\n",
       "        vertical-align: middle;\n",
       "    }\n",
       "\n",
       "    .dataframe tbody tr th {\n",
       "        vertical-align: top;\n",
       "    }\n",
       "\n",
       "    .dataframe thead th {\n",
       "        text-align: right;\n",
       "    }\n",
       "</style>\n",
       "<table border=\"1\" class=\"dataframe\">\n",
       "  <thead>\n",
       "    <tr style=\"text-align: right;\">\n",
       "      <th></th>\n",
       "      <th>Dataset</th>\n",
       "      <th>variable</th>\n",
       "      <th>value</th>\n",
       "    </tr>\n",
       "  </thead>\n",
       "  <tbody>\n",
       "    <tr>\n",
       "      <th>0</th>\n",
       "      <td>CIFAR10</td>\n",
       "      <td>Baseline</td>\n",
       "      <td>56.01</td>\n",
       "    </tr>\n",
       "    <tr>\n",
       "      <th>1</th>\n",
       "      <td>CIFAR100</td>\n",
       "      <td>Baseline</td>\n",
       "      <td>57.70</td>\n",
       "    </tr>\n",
       "    <tr>\n",
       "      <th>2</th>\n",
       "      <td>Tiny ImageNet</td>\n",
       "      <td>Baseline</td>\n",
       "      <td>52.60</td>\n",
       "    </tr>\n",
       "    <tr>\n",
       "      <th>3</th>\n",
       "      <td>CIFAR10</td>\n",
       "      <td>Hoyer</td>\n",
       "      <td>89.65</td>\n",
       "    </tr>\n",
       "    <tr>\n",
       "      <th>4</th>\n",
       "      <td>CIFAR100</td>\n",
       "      <td>Hoyer</td>\n",
       "      <td>89.54</td>\n",
       "    </tr>\n",
       "    <tr>\n",
       "      <th>5</th>\n",
       "      <td>Tiny ImageNet</td>\n",
       "      <td>Hoyer</td>\n",
       "      <td>92.99</td>\n",
       "    </tr>\n",
       "    <tr>\n",
       "      <th>6</th>\n",
       "      <td>CIFAR10</td>\n",
       "      <td>Block Hoyer</td>\n",
       "      <td>93.52</td>\n",
       "    </tr>\n",
       "    <tr>\n",
       "      <th>7</th>\n",
       "      <td>CIFAR100</td>\n",
       "      <td>Block Hoyer</td>\n",
       "      <td>95.74</td>\n",
       "    </tr>\n",
       "    <tr>\n",
       "      <th>8</th>\n",
       "      <td>Tiny ImageNet</td>\n",
       "      <td>Block Hoyer</td>\n",
       "      <td>94.68</td>\n",
       "    </tr>\n",
       "  </tbody>\n",
       "</table>\n",
       "</div>"
      ],
      "text/plain": [
       "         Dataset     variable  value\n",
       "0        CIFAR10     Baseline  56.01\n",
       "1       CIFAR100     Baseline  57.70\n",
       "2  Tiny ImageNet     Baseline  52.60\n",
       "3        CIFAR10        Hoyer  89.65\n",
       "4       CIFAR100        Hoyer  89.54\n",
       "5  Tiny ImageNet        Hoyer  92.99\n",
       "6        CIFAR10  Block Hoyer  93.52\n",
       "7       CIFAR100  Block Hoyer  95.74\n",
       "8  Tiny ImageNet  Block Hoyer  94.68"
      ]
     },
     "execution_count": 31,
     "metadata": {},
     "output_type": "execute_result"
    }
   ],
   "source": [
    "df_sparsity = pd.melt(df_sparsity, id_vars=['Dataset'], value_vars=[var for var in data_sparsity if var != 'Dataset'])\n",
    "df_sparsity"
   ]
  },
  {
   "cell_type": "code",
   "execution_count": 35,
   "metadata": {},
   "outputs": [],
   "source": [
    "uci_colors = ['#255799', '#fecc07', '#002244', '#f78d2d', '#00b0ca', '#f0ab00']\n",
    "with plt.style.context(['science', 'ieee']):\n",
    "    plt.rcParams['axes.prop_cycle'] = cycler(color=uci_colors)\n",
    "    # Create a figure and axis\n",
    "    fig, (ax1_, ax2_) = plt.subplots(figsize=(column_width, column_width /1.5), nrows=2)\n",
    "    \n",
    "    ax1 = sns.barplot(data=df_sparsity, x='Dataset', y='value', hue='variable', ax=ax1_, saturation=1)\n",
    "    ax1.get_legend().remove()\n",
    "    \n",
    "    ax1.set_xlabel('')\n",
    "    ax1.set_ylabel('Sparsity (\\%)')\n",
    "    ax1.set_ylim(50,100)\n",
    "    \n",
    "    # plt.tick_params(axis='both', which='both', top=False, right=False)\n",
    "    \n",
    "    ax2 = sns.barplot(data=df_accuracy, x='Dataset', y='value', hue='variable', ax=ax2_, saturation=1)\n",
    "    ax2.legend(title='', loc='lower center', bbox_to_anchor=(0.5, 2.30), ncol=2, fancybox=True, shadow=True, borderaxespad=0, fontsize='small')\n",
    "\n",
    "    ax2.set_xlabel('')\n",
    "    ax2.set_ylabel('Accuracy (\\%)')\n",
    "    ax2.set_ylim(20,100)\n",
    "    \n",
    "    # plt.tick_params(axis='both', which='both', top=False, right=False)\n",
    "    \n",
    "    if SHOW:\n",
    "        plt.show()\n",
    "    else:\n",
    "        plt.savefig('./results/plots/reg_barplot.pgf', bbox_inches='tight')\n",
    "        plt.close()\n",
    "    "
   ]
  },
  {
   "cell_type": "markdown",
   "metadata": {},
   "source": [
    "# ResNet Induced Sparsity Results"
   ]
  },
  {
   "cell_type": "code",
   "execution_count": 3,
   "metadata": {},
   "outputs": [],
   "source": [
    "natural_sparsity = 43.76\n",
    "initial_accuracy = 68.15"
   ]
  },
  {
   "cell_type": "code",
   "execution_count": 4,
   "metadata": {},
   "outputs": [],
   "source": [
    "experiments = torch.tensor([1, 2, 3, 4, 5])\n",
    "induced_sparsity = torch.tensor([44.56, 48.18, 49.49, 50.25, 54.64])\n",
    "final_accuracy = torch.tensor([68.01, 67.98, 67.94, 67.93, 67.58])"
   ]
  },
  {
   "cell_type": "code",
   "execution_count": 5,
   "metadata": {},
   "outputs": [],
   "source": [
    "diff_sparisty = induced_sparsity - natural_sparsity\n",
    "diff_accuracy = initial_accuracy - final_accuracy"
   ]
  },
  {
   "cell_type": "code",
   "execution_count": 6,
   "metadata": {},
   "outputs": [
    {
     "data": {
      "text/plain": [
       "tensor([ 0.8000,  4.4200,  5.7300,  6.4900, 10.8800])"
      ]
     },
     "execution_count": 6,
     "metadata": {},
     "output_type": "execute_result"
    }
   ],
   "source": [
    "diff_sparisty"
   ]
  },
  {
   "cell_type": "code",
   "execution_count": 7,
   "metadata": {},
   "outputs": [
    {
     "data": {
      "text/plain": [
       "tensor([0.1400, 0.1700, 0.2100, 0.2200, 0.5700])"
      ]
     },
     "execution_count": 7,
     "metadata": {},
     "output_type": "execute_result"
    }
   ],
   "source": [
    "diff_accuracy"
   ]
  },
  {
   "cell_type": "code",
   "execution_count": 9,
   "metadata": {},
   "outputs": [
    {
     "data": {
      "image/png": "[encoded data removed]",
      "text/plain": [
       "<Figure size 800x500 with 1 Axes>"
      ]
     },
     "metadata": {},
     "output_type": "display_data"
    }
   ],
   "source": [
    "# Set bar width and x positions\n",
    "bar_width = 0.35\n",
    "x = np.arange(len(experiments))\n",
    "\n",
    "# Create plot\n",
    "fig, ax = plt.subplots(figsize=(8, 5))\n",
    "\n",
    "# Plot both bars with offset\n",
    "bars1 = ax.bar(x - bar_width/2, diff_sparisty, width=bar_width, label='Induced Sparsity', color='skyblue')\n",
    "bars2 = ax.bar(x + bar_width/2, diff_accuracy, width=bar_width, label='Final Accuracy', color='salmon')\n",
    "\n",
    "# Add labels and legend\n",
    "ax.set_xlabel('Experiment')\n",
    "ax.set_ylabel('Value')\n",
    "ax.set_title('Induced Sparsity and Final Accuracy per Experiment')\n",
    "ax.set_xticks(x)\n",
    "# ax.set_xticklabels(experiments)\n",
    "ax.legend()\n",
    "\n",
    "plt.tight_layout()\n",
    "plt.show()"
   ]
  },
  {
   "cell_type": "code",
   "execution_count": null,
   "metadata": {},
   "outputs": [],
   "source": []
  }
 ],
 "metadata": {
  "kernelspec": {
   "display_name": "torch2",
   "language": "python",
   "name": "python3"
  },
  "language_info": {
   "codemirror_mode": {
    "name": "ipython",
    "version": 3
   },
   "file_extension": ".py",
   "mimetype": "text/x-python",
   "name": "python",
   "nbconvert_exporter": "python",
   "pygments_lexer": "ipython3",
   "version": "3.9.12"
  }
 },
 "nbformat": 4,
 "nbformat_minor": 2
}
